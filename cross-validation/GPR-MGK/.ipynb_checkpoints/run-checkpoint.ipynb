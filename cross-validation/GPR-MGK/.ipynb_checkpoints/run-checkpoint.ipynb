{
 "cells": [
  {
   "cell_type": "code",
   "execution_count": null,
   "id": "20675606-e167-4f1f-be53-03ba8cf3637f",
   "metadata": {},
   "outputs": [],
   "source": [
    "!pip install git+https://gitlab.com/Xiangyan93/graphdot.git@feature/xy\n",
    "!pip install mgktools==3.1.0"
   ]
  },
  {
   "cell_type": "code",
   "execution_count": null,
   "id": "8d33db2e-b62b-4aca-8b17-6a9a0fc95340",
   "metadata": {},
   "outputs": [],
   "source": [
    "# Run 5-fold cross-validation using Gaussian process regression-Marginalized graph kernel.\n",
    "# GPR-MGK (reactants)\n",
    "!mgk_cache_data --data_paths ../../data/luciferase_expression.csv --smiles_columns reactant1 reactant2 --n_jobs 8 --features_generators_name rdkit_2d_normalized\n",
    "!mgk_kernel_calc --save_dir mgk --cache_path cache.pkl --data_path ../../data/luciferase_expression.csv --smiles_columns reactant1 reactant2 --targets_columns logv --graph_kernel_type graph --graph_hyperparameters product-msnorm.json product-msnorm.json\n",
    "!mgk_cross_validation --save_dir mgk --data_path ../../data/luciferase_expression.csv --smiles_columns reactant1 reactant2 --targets_columns logv --task_type regression --model_type gpr --cross_validation kFold --n_split 5 --num_folds 10 --metric rmse --graph_kernel_type pre-computed --alpha 0.01"
   ]
  },
  {
   "cell_type": "code",
   "execution_count": null,
   "id": "b615824b-0751-49b9-88fe-7b278ba7dbdc",
   "metadata": {
    "tags": []
   },
   "outputs": [],
   "source": [
    "# GPR-MGK-RDKit (reactants)\n",
    "!mgk_cache_data --data_paths ../../data/luciferase_expression.csv --smiles_columns reactant1 reactant2 --n_jobs 8 --features_generators_name rdkit_2d_normalized\n",
    "!mgk_kernel_calc --save_dir mgk-rdkit --cache_path cache.pkl --data_path ../../data/luciferase_expression.csv --smiles_columns reactant1 reactant2 --targets_columns logv --features_generators_name rdkit_2d_normalized --graph_kernel_type graph --graph_hyperparameters product-msnorm.json product-msnorm.json --features_hyperparameters rbf.json\n",
    "!mgk_cross_validation --save_dir mgk-rdkit --data_path ../../data/luciferase_expression.csv --smiles_columns reactant1 reactant2 --targets_columns logv --features_generator rdkit_2d_normalized --task_type regression --model_type gpr --cross_validation kFold --n_split 5 --num_folds 10 --metric rmse --graph_kernel_type pre-computed --features_hyperparameters rbf.json --alpha 0.01"
   ]
  },
  {
   "cell_type": "code",
   "execution_count": null,
   "id": "89bc575a-297d-4355-8be9-7f8048b014ba",
   "metadata": {},
   "outputs": [],
   "source": [
    "# GPR-MGK (product)\n",
    "!mgk_cache_data --data_paths ../../data/luciferase_expression.csv --smiles_columns product --n_jobs 8 --features_generators_name rdkit_2d_normalized\n",
    "!mgk_kernel_calc --save_dir mgk --cache_path cache.pkl --data_path ../../data/luciferase_expression.csv --smiles_columns product --targets_columns logv --graph_kernel_type graph --graph_hyperparameters product-msnorm.json\n",
    "!mgk_cross_validation --save_dir mgk --data_path ../../data/luciferase_expression.csv --smiles_columns product --targets_columns logv --task_type regression --model_type gpr --cross_validation kFold --n_split 5 --num_folds 10 --metric rmse --graph_kernel_type pre-computed --alpha 0.01"
   ]
  },
  {
   "cell_type": "code",
   "execution_count": null,
   "id": "6a5d8688-01f4-4b53-84a0-966b145c43df",
   "metadata": {},
   "outputs": [],
   "source": [
    "# GPR-MGK-RDKit (product)\n",
    "!mgk_cache_data --data_paths ../../data/luciferase_expression.csv --smiles_columns product --n_jobs 8 --features_generators_name rdkit_2d_normalized\n",
    "!mgk_kernel_calc --save_dir mgk-rdkit --cache_path cache.pkl --data_path ../../luciferase_expression.csv --smiles_columns product --targets_columns logv --features_generators_name rdkit_2d_normalized --graph_kernel_type graph --graph_hyperparameters product-msnorm.json --features_hyperparameters rbf.json\n",
    "!mgk_cross_validation --save_dir mgk-rdkit --data_path ../../luciferase_expression.csv --smiles_columns product --targets_columns logv --features_generator rdkit_2d_normalized --task_type regression --model_type gpr --cross_validation kFold --n_split 5 --num_folds 10 --metric rmse --graph_kernel_type pre-computed --features_hyperparameters rbf.json --alpha 0.01"
   ]
  }
 ],
 "metadata": {
  "kernelspec": {
   "display_name": "molalkit",
   "language": "python",
   "name": "molalkit"
  },
  "language_info": {
   "codemirror_mode": {
    "name": "ipython",
    "version": 3
   },
   "file_extension": ".py",
   "mimetype": "text/x-python",
   "name": "python",
   "nbconvert_exporter": "python",
   "pygments_lexer": "ipython3",
   "version": "3.10.13"
  }
 },
 "nbformat": 4,
 "nbformat_minor": 5
}
