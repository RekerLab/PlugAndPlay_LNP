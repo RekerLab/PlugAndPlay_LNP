{
 "cells": [
  {
   "cell_type": "code",
   "execution_count": null,
   "id": "6d266281-9437-4a2e-b3ae-10db86ca4c9c",
   "metadata": {},
   "outputs": [],
   "source": [
    "!pip install git+https://gitlab.com/Xiangyan93/graphdot.git@feature/xy\n",
    "!pip install mgktools==3.1.0"
   ]
  },
  {
   "cell_type": "code",
   "execution_count": null,
   "id": "342d734f-d460-4208-87fe-47b1332944f1",
   "metadata": {},
   "outputs": [],
   "source": [
    "# Run 5-fold CV using Random forest, XGBoost with various descriptors.\n",
    "fingerprint_types = [\n",
    "    \"morgan\",\n",
    "    \"morgan_count\",\n",
    "    \"rdkit_2d\",\n",
    "    \"rdkit_2d_normalized\",\n",
    "    \"rdkit_topol\",\n",
    "    \"layered\",\n",
    "    \"torsion\",\n",
    "    \"atom_pair\",\n",
    "    \"avalon\",\n",
    "    \"avalon_count\",\n",
    "    \"maccskey\",\n",
    "    \"pattern\"\n",
    "]\n",
    "for model in ['rf', 'xgboost']:\n",
    "    for fg in fingerprint_types:\n",
    "        # using reactants representation\n",
    "        !./tree.py --save_dir reactants-$model-$fg --data_path ../../data/luciferase_expression.csv --smiles_columns reactant1 reactant2 --targets_columns logv --features_generator $fg --task_type regression --model $model --cross_validation kFold --n_split 5 --num_folds 10 --metric rmse\n",
    "        # using product representation\n",
    "        !./tree.py --save_dir product-$model-$fg --data_path ../../data/luciferase_expression.csv --smiles_columns product --targets_columns logv --features_generator $fg --task_type regression --model $model --cross_validation kFold --n_split 5 --num_folds 10 --metric rmse"
   ]
  }
 ],
 "metadata": {
  "kernelspec": {
   "display_name": "molalkit",
   "language": "python",
   "name": "molalkit"
  },
  "language_info": {
   "codemirror_mode": {
    "name": "ipython",
    "version": 3
   },
   "file_extension": ".py",
   "mimetype": "text/x-python",
   "name": "python",
   "nbconvert_exporter": "python",
   "pygments_lexer": "ipython3",
   "version": "3.10.13"
  }
 },
 "nbformat": 4,
 "nbformat_minor": 5
}
